{
 "cells": [
  {
   "cell_type": "code",
   "execution_count": null,
   "metadata": {
    "collapsed": false,
    "deletable": true,
    "editable": true
   },
   "outputs": [],
   "source": [
    "import nltk\n",
    "from nltk.sentiment.vader import SentimentIntensityAnalyzer "
   ]
  },
  {
   "cell_type": "code",
   "execution_count": null,
   "metadata": {
    "collapsed": false,
    "deletable": true,
    "editable": true,
    "scrolled": true
   },
   "outputs": [],
   "source": [
    "from exphandler import*\n",
    "\n",
    "comments=[]\n",
    "lines = [line.rstrip('\\n') for line in open('china.txt')]\n",
    "for line in lines:\n",
    "    doc=converttonlpdoc(line)   \n",
    "    for sents in returnsentneces(doc):\n",
    "        comments.append(sents)\n",
    "        \n",
    "print(comments)"
   ]
  },
  {
   "cell_type": "code",
   "execution_count": null,
   "metadata": {
    "collapsed": false,
    "deletable": true,
    "editable": true
   },
   "outputs": [],
   "source": [
    "print(len(comments))"
   ]
  },
  {
   "cell_type": "code",
   "execution_count": null,
   "metadata": {
    "collapsed": false,
    "deletable": true,
    "editable": true,
    "scrolled": true
   },
   "outputs": [],
   "source": [
    "sid = SentimentIntensityAnalyzer()\n",
    "f_data=[]\n",
    "pos_data=[]\n",
    "nega_data=[]\n",
    "neutral_data=[]\n",
    "comments_tags=[]\n",
    "for sentence in comments:\n",
    "     print(sentence)\n",
    "     ss = sid.polarity_scores(sentence)\n",
    "     data=[]\n",
    "     for k in ss:\n",
    "         temp=[]\n",
    "         temp.append(k)\n",
    "         temp.append(ss[k])\n",
    "         data.append(temp)    \n",
    "         f_data.append(temp)\n",
    "     check_l=list(map(lambda x: x[1], data[:4]))\n",
    "     m = max(check_l)\n",
    "     for i, j in enumerate(check_l):\n",
    "        if j == m:\n",
    "            if i==1:\n",
    "                comments_tags.append(\"negative\")\n",
    "                nega_data.append('negative')\n",
    "            if i==2:\n",
    "                comments_tags.append(\"neutral\")\n",
    "                neutral_data.append('neutral')\n",
    "                \n",
    "            if i==3:  \n",
    "                comments_tags.append(\"positive\")\n",
    "                pos_data.append('positive')\n",
    "        \n",
    "     \n",
    "     print(\"\\n\")\n",
    "     print(\"============\")\n",
    "    \n"
   ]
  },
  {
   "cell_type": "code",
   "execution_count": null,
   "metadata": {
    "collapsed": false,
    "deletable": true,
    "editable": true
   },
   "outputs": [],
   "source": [
    "nega_val=len(nega_data)\n",
    "pos_val=len(pos_data)\n",
    "neutral_val=len(neutral_data)\n",
    "total=nega_val+neutral_val+pos_val"
   ]
  },
  {
   "cell_type": "code",
   "execution_count": null,
   "metadata": {
    "collapsed": false,
    "deletable": true,
    "editable": true
   },
   "outputs": [],
   "source": [
    "print(\"Negative value: {}\".format((nega_val/total)*100)+'\\n'+\"Positive value: {}\".\n",
    "      format((pos_val/total)*100)+'\\n'+\"Neutral value: {}\".format((neutral_val/total)*100))"
   ]
  },
  {
   "cell_type": "code",
   "execution_count": null,
   "metadata": {
    "collapsed": false,
    "deletable": true,
    "editable": true,
    "scrolled": true
   },
   "outputs": [],
   "source": [
    "import pandas\n",
    "from collections import Counter\n",
    "import matplotlib.pyplot as plt\n",
    "letter_counts = Counter(comments_tags)\n",
    "df = pandas.DataFrame.from_dict(letter_counts, orient='index')\n",
    "df.plot(kind='bar')\n",
    "plt.show()\n"
   ]
  },
  {
   "cell_type": "code",
   "execution_count": null,
   "metadata": {
    "collapsed": false,
    "deletable": true,
    "editable": true
   },
   "outputs": [],
   "source": [
    "from os import path\n",
    "from wordcloud import WordCloud\n",
    "import matplotlib.pyplot as plt\n",
    "\n",
    "#Set the directory containing your lexicon\n",
    "\n",
    "# Read the whole text.\n",
    "text = open('china.txt').read()\n",
    "\n",
    "# Generate a word cloud object and plot it on the x and y axis\n",
    "wordcloud = WordCloud().generate(text)\n",
    "\n",
    "plt.imshow(wordcloud)\n",
    "\n",
    "#Turn off the axis. Otherwise you will see a bunch of extra numbers around the word cloud\n",
    "plt.axis(\"off\")\n",
    "\n",
    "#Show the word cloud\n",
    "plt.show()"
   ]
  },
  {
   "cell_type": "code",
   "execution_count": null,
   "metadata": {
    "collapsed": true,
    "deletable": true,
    "editable": true
   },
   "outputs": [],
   "source": []
  }
 ],
 "metadata": {
  "kernelspec": {
   "display_name": "Python 3",
   "language": "python",
   "name": "python3"
  },
  "language_info": {
   "codemirror_mode": {
    "name": "ipython",
    "version": 3
   },
   "file_extension": ".py",
   "mimetype": "text/x-python",
   "name": "python",
   "nbconvert_exporter": "python",
   "pygments_lexer": "ipython3",
   "version": "3.6.1"
  }
 },
 "nbformat": 4,
 "nbformat_minor": 2
}
